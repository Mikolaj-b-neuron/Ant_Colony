{
 "cells": [
  {
   "cell_type": "code",
   "execution_count": 1,
   "metadata": {},
   "outputs": [
    {
     "name": "stdout",
     "output_type": "stream",
     "text": [
      "pygame 2.1.2 (SDL 2.0.20, Python 3.10.6)\n",
      "Hello from the pygame community. https://www.pygame.org/contribute.html\n"
     ]
    }
   ],
   "source": [
    "import pygame\n",
    "import numpy as np"
   ]
  },
  {
   "cell_type": "code",
   "execution_count": 2,
   "metadata": {},
   "outputs": [],
   "source": [
    "class World:\n",
    "   def __init__(self, food, forage_pheromone, home_pheromone, nest = 0 ):\n",
    "      self.food = food\n",
    "      self.forage = forage_pheromone\n",
    "      self.home = home_pheromone\n",
    "      self.nest = nest\n",
    "      self.bound = home_pheromone # originally i tried expanding the pheromones so this is an artifact.\n",
    "      self.size = 80\n",
    "\n",
    "      self.Home_evapoaration = 0.3\n",
    "      self.Foraging_evaporation = 0.05\n",
    "      \n",
    "   def evaporate(self):\n",
    "      self.forage *= self.Foraging_evaporation\n",
    "      self.home *= self.Home_evapoaration"
   ]
  },
  {
   "cell_type": "code",
   "execution_count": 3,
   "metadata": {},
   "outputs": [],
   "source": [
    "class Ant:\n",
    "    def __init__(self, direction, X, Y, food = 0):\n",
    "        self.X = X\n",
    "        self.Y = Y\n",
    "        self.dir = direction\n",
    "        self.food = food\n",
    "\n",
    "    def _calculate_next_positions(self, offset):\n",
    "        return [(self.Y + direrctions[(self.dir + i + 8) % 8][1], self.X + direrctions[(self.dir + i + 8) % 8][0]) for i in offset]\n",
    "    def _calculate_next_position(self, direction):\n",
    "        return self.Y + direrctions[direction % 8][1], self.X + direrctions[direction % 8][0]\n",
    "\n",
    "    def move(self, world):\n",
    "       # Check pheromones depending on whether the ant has food\n",
    "        pher = world.home if self.food > 0 else world.forage\n",
    "        boundries = world.bound\n",
    "\n",
    "        next_positions = self._calculate_next_positions([-1, 0, 1])\n",
    "\n",
    "        # Initialize prob_vals and tile arrays with default values\n",
    "        prob_vals = [0, 0, 0]\n",
    "        tile = [None, None, None]\n",
    "        for i in range(3):\n",
    "            Y, X = next_positions[i]\n",
    "            if 0 <= Y < world.size and 0 <= X < world.size:\n",
    "                prob_vals[i] = prob(pher[Y, X])\n",
    "                tile[i] = boundries[Y, X]\n",
    "\n",
    "        random_choice = np.random.rand() \n",
    "        if random_choice < 0.05:  # this little thing keeps ants from getting stuck on high concentration pheromone cells\n",
    "            self.dir = (self.dir + np.random.choice([-1, 0, 1])) % 8\n",
    "        elif any(tile):  # if hit any boundary. this function is present cause my ants keep geting stuck on edges\n",
    "            available_directions = [i for i, t in enumerate(tile) if not t]\n",
    "            if not available_directions:  \n",
    "                return  \n",
    "            new_dir = np.random.choice(available_directions)\n",
    "            self.dir = (self.dir + new_dir - 1) % 8   \n",
    "        else:\n",
    "            if sum(prob_vals) == 0:\n",
    "                self.dir = (self.dir + np.random.choice([-1, 0, 1])) % 8\n",
    "            else:\n",
    "                self.dir = (self.dir + np.random.choice([-1, 0, 1], p=[p/sum(prob_vals) for p in prob_vals])) % 8\n",
    "\n",
    "        next_Y, next_X = self._calculate_next_position(self.dir)\n",
    "\n",
    "        # we move \n",
    "        if 0 <= next_Y < world.size and 0 <= next_X < world.size:  # last check if in bounds. \n",
    "            self.Y = next_Y\n",
    "            self.X = next_X\n",
    "\n",
    "    def mark_pheromone(self, world):\n",
    "        if 0 <= self.Y < world.size and 0 <= self.X < world.size:\n",
    "            if self.food > 0 and (self.Y > 10 or self.X > 10):\n",
    "                world.home[self.Y, self.X] += 1\n",
    "            if self.food == 0 and (self.Y > 10 or self.X > 10):\n",
    "                world.forage[self.Y, self.X] += 1\n",
    "\n",
    "    def take_food(self, world):\n",
    "        next_positions = self._calculate_next_positions([-1, 0, 1])\n",
    "        food = world.food\n",
    "        tiles = [None, None, None]\n",
    "\n",
    "        # we look at food in frontal cells\n",
    "        for i in range(3):\n",
    "            Y, X = next_positions[i]\n",
    "            if 0 <= Y < world.size and 0 <= X < world.size:\n",
    "                tiles[i] = food[Y, X]\n",
    "\n",
    "        for i, tile in enumerate(tiles):\n",
    "            if tile and tile > 0:\n",
    "                Y, X = next_positions[i]\n",
    "                world.food[Y, X] -= 1\n",
    "                self.food += 1\n",
    "                self.dir = (self.dir + i - 1 + 4) % 8  # turn around\n",
    "                self.Y, self.X = self._calculate_next_position(self.dir) # move. here we do a little sequence\n",
    "                return\n",
    "\n",
    "    def deposit_food(self, world):\n",
    "        if (0 < self.X < 10) and (0 < self.Y < 10) and self.food > 0:\n",
    "            self.food = 0\n",
    "            world.nest += self.food\n",
    "            self.food = 0"
   ]
  },
  {
   "cell_type": "code",
   "execution_count": 4,
   "metadata": {},
   "outputs": [],
   "source": [
    "direrctions = [[1, 0], [1, -1], [0, -1], [-1, -1], [-1, 0], [-1, 1], [0, 1], [1, 1]]\n",
    "\n",
    "def prob(I): # i decided to use formula given on the presentation\n",
    "   return (2+I)**(7)"
   ]
  },
  {
   "cell_type": "code",
   "execution_count": 5,
   "metadata": {},
   "outputs": [],
   "source": [
    "# we quickly define colors to make it easier\n",
    "BLACK = (0, 0, 0)\n",
    "GREEN = (0, 255, 0)\n",
    "BLUE = (0, 0, 255)\n",
    "RED = (255, 0, 0)\n",
    "GREY = (128, 128, 128)\n",
    "\n",
    "# Set window parameters for pygame\n",
    "WINDOW_SIZE = [800, 800]\n",
    "CELL_SIZE = 10  # size of one cell. we will need it later for drawing pheromones and ants"
   ]
  },
  {
   "cell_type": "code",
   "execution_count": 6,
   "metadata": {},
   "outputs": [],
   "source": [
    "# we spawn our ants and make start at the edge of the nest\n",
    "Ants = [Ant(np.random.randint(0,8), 10,10) for _ in range(40)] \n",
    "\n",
    "\n",
    "food = np.zeros((80, 80)) # to create food\n",
    "forage_pheromone = np.zeros((80, 80))# to create pheromoen grids\n",
    "home_pheromone = np.zeros((80, 80))\n",
    "\n",
    "# Place food\n",
    "food[70:80, 70:80] = 1 # how much food points in one cell, ant can carry only one point  \n",
    "\n",
    "# food, forage_pheromone, home_pheromone, boundries\n",
    "world = World(food, forage_pheromone, home_pheromone)"
   ]
  },
  {
   "cell_type": "code",
   "execution_count": 7,
   "metadata": {},
   "outputs": [
    {
     "ename": "error",
     "evalue": "display Surface quit",
     "output_type": "error",
     "traceback": [
      "\u001b[0;31m---------------------------------------------------------------------------\u001b[0m",
      "\u001b[0;31merror\u001b[0m                                     Traceback (most recent call last)",
      "\u001b[1;32m/home/mikolaj/Documents/Studia/Computer Modeling of Physical Phenomena/Project 10/4_test/CagedAnt.ipynb/CageAnt6_Final.ipynb Cell 7\u001b[0m in \u001b[0;36m2\n\u001b[1;32m     <a href='vscode-notebook-cell:/home/mikolaj/Documents/Studia/Computer%20Modeling%20of%20Physical%20Phenomena/Project%2010/4_test/CagedAnt.ipynb/CageAnt6_Final.ipynb#W6sZmlsZQ%3D%3D?line=16'>17</a>\u001b[0m     ant\u001b[39m.\u001b[39mdeposit_food(world) \u001b[39m#if they can, let them deposit food\u001b[39;00m\n\u001b[1;32m     <a href='vscode-notebook-cell:/home/mikolaj/Documents/Studia/Computer%20Modeling%20of%20Physical%20Phenomena/Project%2010/4_test/CagedAnt.ipynb/CageAnt6_Final.ipynb#W6sZmlsZQ%3D%3D?line=18'>19</a>\u001b[0m world\u001b[39m.\u001b[39mevaporate() \u001b[39m# we evaporate the pheromones\u001b[39;00m\n\u001b[0;32m---> <a href='vscode-notebook-cell:/home/mikolaj/Documents/Studia/Computer%20Modeling%20of%20Physical%20Phenomena/Project%2010/4_test/CagedAnt.ipynb/CageAnt6_Final.ipynb#W6sZmlsZQ%3D%3D?line=20'>21</a>\u001b[0m screen\u001b[39m.\u001b[39;49mfill((\u001b[39m0\u001b[39;49m,\u001b[39m0\u001b[39;49m,\u001b[39m0\u001b[39;49m)) \u001b[39m# needs of pygame, we set background to black\u001b[39;00m\n\u001b[1;32m     <a href='vscode-notebook-cell:/home/mikolaj/Documents/Studia/Computer%20Modeling%20of%20Physical%20Phenomena/Project%2010/4_test/CagedAnt.ipynb/CageAnt6_Final.ipynb#W6sZmlsZQ%3D%3D?line=22'>23</a>\u001b[0m \u001b[39m# we draw values of pheromones in cells. green is for having food and blue for searching for food\u001b[39;00m\n\u001b[1;32m     <a href='vscode-notebook-cell:/home/mikolaj/Documents/Studia/Computer%20Modeling%20of%20Physical%20Phenomena/Project%2010/4_test/CagedAnt.ipynb/CageAnt6_Final.ipynb#W6sZmlsZQ%3D%3D?line=23'>24</a>\u001b[0m \u001b[39mfor\u001b[39;00m i \u001b[39min\u001b[39;00m \u001b[39mrange\u001b[39m(\u001b[39m80\u001b[39m):\n",
      "\u001b[0;31merror\u001b[0m: display Surface quit"
     ]
    },
    {
     "ename": "",
     "evalue": "",
     "output_type": "error",
     "traceback": [
      "\u001b[1;31mThe Kernel crashed while executing code in the the current cell or a previous cell. Please review the code in the cell(s) to identify a possible cause of the failure. Click <a href='https://aka.ms/vscodeJupyterKernelCrash'>here</a> for more info. View Jupyter <a href='command:jupyter.viewOutput'>log</a> for further details."
     ]
    }
   ],
   "source": [
    "# Initialize Pygame\n",
    "pygame.init()\n",
    "\n",
    "screen = pygame.display.set_mode(WINDOW_SIZE)\n",
    "clock = pygame.time.Clock() #makes it easier to speed up the simulation\n",
    "\n",
    "while True: \n",
    "    for event in pygame.event.get(): #basic setup\n",
    "        if event.type == pygame.QUIT or (event.type == pygame.KEYDOWN and event.key == pygame.K_ESCAPE):\n",
    "            pygame.quit()\n",
    "            quit()\n",
    "\n",
    "    for ant in Ants:\n",
    "        ant.move(world)# we make them move\n",
    "        ant.take_food(world) # let them take food if they can\n",
    "        ant.mark_pheromone(world) # let them mark pheromones. they depend on having food\n",
    "        ant.deposit_food(world) #if they can, let them deposit food\n",
    "    \n",
    "    world.evaporate() # we evaporate the pheromones\n",
    "\n",
    "    screen.fill((0,0,0)) # needs of pygame, we set background to black\n",
    "\n",
    "    # we draw values of pheromones in cells. green is for having food and blue for searching for food\n",
    "    for i in range(80):\n",
    "        for j in range(80):\n",
    "            if world.home[i][j] > 0:\n",
    "                pygame.draw.rect(screen, (0,126,0), [j*CELL_SIZE, i*CELL_SIZE, CELL_SIZE, CELL_SIZE])\n",
    "            if world.forage[i][j] > 0:\n",
    "                pygame.draw.rect(screen, (0,0,126), [j*CELL_SIZE + CELL_SIZE//4 , i*CELL_SIZE+ CELL_SIZE//4 , CELL_SIZE//2, CELL_SIZE//2])\n",
    "\n",
    "    # draw ants\n",
    "    for ant in Ants:\n",
    "        pygame.draw.rect(screen, RED, [ant.X*CELL_SIZE, ant.Y*CELL_SIZE, CELL_SIZE, CELL_SIZE])\n",
    "\n",
    "    # draw food\n",
    "    for i in range(69,80):\n",
    "        for j in range(69,80):\n",
    "            if world.food[i][j] > 0:\n",
    "                pygame.draw.rect(screen, GREEN, [j*CELL_SIZE, i*CELL_SIZE, CELL_SIZE, CELL_SIZE])\n",
    "                \n",
    "    # draw nest\n",
    "    for i in range(11):\n",
    "        for j in range(11):\n",
    "            pygame.draw.rect(screen, BLUE, [j*CELL_SIZE, i*CELL_SIZE, CELL_SIZE, CELL_SIZE])\n",
    "    \n",
    "    pygame.display.flip()# simple setup\n",
    "    clock.tick(200)#we speed up\n"
   ]
  }
 ],
 "metadata": {
  "kernelspec": {
   "display_name": "Python 3",
   "language": "python",
   "name": "python3"
  },
  "language_info": {
   "codemirror_mode": {
    "name": "ipython",
    "version": 3
   },
   "file_extension": ".py",
   "mimetype": "text/x-python",
   "name": "python",
   "nbconvert_exporter": "python",
   "pygments_lexer": "ipython3",
   "version": "3.10.6"
  },
  "orig_nbformat": 4
 },
 "nbformat": 4,
 "nbformat_minor": 2
}
